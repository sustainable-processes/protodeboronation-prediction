{
 "cells": [
  {
   "cell_type": "markdown",
   "id": "f87842c2",
   "metadata": {
    "toc": true
   },
   "source": [
    "<h1>Table of Contents<span class=\"tocSkip\"></span></h1>\n",
    "<div class=\"toc\"><ul class=\"toc-item\"><li><span><a href=\"#Reproducing-results\" data-toc-modified-id=\"Reproducing-results-1\"><span class=\"toc-item-num\">1&nbsp;&nbsp;</span>Reproducing results</a></span><ul class=\"toc-item\"><li><span><a href=\"#Cox's-molecules\" data-toc-modified-id=\"Cox's-molecules-1.1\"><span class=\"toc-item-num\">1.1&nbsp;&nbsp;</span>Cox's molecules</a></span></li><li><span><a href=\"#Novel-molecules\" data-toc-modified-id=\"Novel-molecules-1.2\"><span class=\"toc-item-num\">1.2&nbsp;&nbsp;</span>Novel molecules</a></span></li></ul></li><li><span><a href=\"#Training-and-saving-linear-mechanistic-models\" data-toc-modified-id=\"Training-and-saving-linear-mechanistic-models-2\"><span class=\"toc-item-num\">2&nbsp;&nbsp;</span>Training and saving linear mechanistic models</a></span></li><li><span><a href=\"#Generate-predictions-for-your-own-molecules\" data-toc-modified-id=\"Generate-predictions-for-your-own-molecules-3\"><span class=\"toc-item-num\">3&nbsp;&nbsp;</span>Generate predictions for your own molecules</a></span></li></ul></div>"
   ]
  },
  {
   "cell_type": "markdown",
   "id": "f5122058",
   "metadata": {},
   "source": [
    "# Reproducing results"
   ]
  },
  {
   "cell_type": "markdown",
   "id": "83c6125b",
   "metadata": {
    "ExecuteTime": {
     "end_time": "2022-06-02T18:42:34.888167Z",
     "start_time": "2022-06-02T18:42:34.884438Z"
    }
   },
   "source": [
    "## Cox's molecules"
   ]
  },
  {
   "cell_type": "code",
   "execution_count": 1,
   "id": "b38b0101",
   "metadata": {
    "ExecuteTime": {
     "end_time": "2022-06-11T10:39:06.059125Z",
     "start_time": "2022-06-11T10:39:03.129192Z"
    },
    "scrolled": true
   },
   "outputs": [],
   "source": [
    "from PDB_predictions import KnownBoronicAcid"
   ]
  },
  {
   "cell_type": "code",
   "execution_count": 2,
   "id": "2c3d8aaa",
   "metadata": {
    "ExecuteTime": {
     "end_time": "2022-06-11T10:39:06.099291Z",
     "start_time": "2022-06-11T10:39:06.061941Z"
    }
   },
   "outputs": [],
   "source": [
    "# Initialise class instance\n",
    "# Molecules are accessed using their molecule index, which can be found in the paper\n",
    "PBA = KnownBoronicAcid(60)\n"
   ]
  },
  {
   "cell_type": "code",
   "execution_count": 3,
   "id": "d28e9bd9",
   "metadata": {
    "ExecuteTime": {
     "end_time": "2022-06-11T10:39:06.111993Z",
     "start_time": "2022-06-11T10:39:06.101564Z"
    }
   },
   "outputs": [
    {
     "data": {
      "text/plain": [
       "{'molecule_ID': 60,\n",
       " 'k1': -5.751245664189561,\n",
       " 'k2': -5.26019147536735,\n",
       " 'k2Ar': None,\n",
       " 'k2cat': None,\n",
       " 'k3': -3.22,\n",
       " 'k4': -7.0438186800422,\n",
       " 'k5': None,\n",
       " 'pKa': 11.61,\n",
       " 'pKaH': 1.26,\n",
       " 'smiles': 'OB(O)c1cn[nH]c1'}"
      ]
     },
     "execution_count": 3,
     "metadata": {},
     "output_type": "execute_result"
    }
   ],
   "source": [
    "# Access the rate predictions of each mechanistic pathway through the instance:\n",
    "PBA.__dict__"
   ]
  },
  {
   "cell_type": "code",
   "execution_count": 4,
   "id": "10f48f02",
   "metadata": {
    "ExecuteTime": {
     "end_time": "2022-06-11T10:39:06.354362Z",
     "start_time": "2022-06-11T10:39:06.115070Z"
    }
   },
   "outputs": [
    {
     "data": {
      "image/png": "[encoded data removed]",
      "text/plain": [
       "<Figure size 720x360 with 1 Axes>"
      ]
     },
     "metadata": {
      "needs_background": "light"
     },
     "output_type": "display_data"
    }
   ],
   "source": [
    "# Plot the protodeboronation graph\n",
    "PBA_figure = PBA.plot_result()"
   ]
  },
  {
   "cell_type": "code",
   "execution_count": 5,
   "id": "f304a5b1",
   "metadata": {
    "ExecuteTime": {
     "end_time": "2022-06-11T10:39:06.359974Z",
     "start_time": "2022-06-11T10:39:06.356145Z"
    }
   },
   "outputs": [
    {
     "data": {
      "text/plain": [
       "'KnownBoronicAcid(60)'"
      ]
     },
     "execution_count": 5,
     "metadata": {},
     "output_type": "execute_result"
    }
   ],
   "source": [
    "# And you can of course figure out how the object was created using repr, and what molecule it \n",
    "#   is (the smiles string) using str\n",
    "repr(PBA)"
   ]
  },
  {
   "cell_type": "code",
   "execution_count": 6,
   "id": "5a9a151c",
   "metadata": {
    "ExecuteTime": {
     "end_time": "2022-06-11T10:39:06.364990Z",
     "start_time": "2022-06-11T10:39:06.361476Z"
    }
   },
   "outputs": [
    {
     "data": {
      "text/plain": [
       "'OB(O)c1cn[nH]c1'"
      ]
     },
     "execution_count": 6,
     "metadata": {},
     "output_type": "execute_result"
    }
   ],
   "source": [
    "str(PBA)"
   ]
  },
  {
   "cell_type": "code",
   "execution_count": 7,
   "id": "8f02e345",
   "metadata": {
    "ExecuteTime": {
     "end_time": "2022-06-11T10:39:06.370357Z",
     "start_time": "2022-06-11T10:39:06.366557Z"
    }
   },
   "outputs": [
    {
     "data": {
      "text/plain": [
       "KnownBoronicAcid(60)"
      ]
     },
     "execution_count": 7,
     "metadata": {},
     "output_type": "execute_result"
    }
   ],
   "source": [
    "PBA"
   ]
  },
  {
   "cell_type": "markdown",
   "id": "cc78b49d",
   "metadata": {},
   "source": [
    "## Novel molecules"
   ]
  },
  {
   "cell_type": "code",
   "execution_count": 8,
   "id": "13e4c18f",
   "metadata": {
    "ExecuteTime": {
     "end_time": "2022-06-11T10:39:06.403367Z",
     "start_time": "2022-06-11T10:39:06.371904Z"
    }
   },
   "outputs": [],
   "source": [
    "# Can also specify a molecule which we don't have ground truth for\n",
    "# E.g. (2-methylpyridin-3-yl)boronic acid aka. MPBA\n",
    "MPBA = KnownBoronicAcid(106)"
   ]
  },
  {
   "cell_type": "code",
   "execution_count": 9,
   "id": "e32f715a",
   "metadata": {
    "ExecuteTime": {
     "end_time": "2022-06-11T10:39:06.547709Z",
     "start_time": "2022-06-11T10:39:06.405682Z"
    }
   },
   "outputs": [
    {
     "data": {
      "image/png": "[encoded data removed]",
      "text/plain": [
       "<Figure size 720x360 with 1 Axes>"
      ]
     },
     "metadata": {
      "needs_background": "light"
     },
     "output_type": "display_data"
    }
   ],
   "source": [
    "# Plot the protodeboronation graph\n",
    "# In this case, the measured rate will of course not be plotted, \n",
    "#    since measurements for this molecule don't exist\n",
    "MPBA_figure = MPBA.plot_result()"
   ]
  },
  {
   "cell_type": "code",
   "execution_count": 10,
   "id": "63c388a3",
   "metadata": {
    "ExecuteTime": {
     "end_time": "2022-06-11T10:39:06.555050Z",
     "start_time": "2022-06-11T10:39:06.551688Z"
    },
    "scrolled": true
   },
   "outputs": [
    {
     "data": {
      "text/plain": [
       "{'molecule_ID': 106,\n",
       " 'k1': None,\n",
       " 'k2': -5.346572748791509,\n",
       " 'k2Ar': None,\n",
       " 'k2cat': None,\n",
       " 'k3': None,\n",
       " 'k4': -4.2059476262060915,\n",
       " 'k5': None,\n",
       " 'pKa': 9.484599999999999,\n",
       " 'pKaH': 1.7525000000000002,\n",
       " 'smiles': 'OB(O)C1=CC=C(OC(F)(F)F)C=C1'}"
      ]
     },
     "execution_count": 10,
     "metadata": {},
     "output_type": "execute_result"
    }
   ],
   "source": [
    "# And again we can easily find the relevant information about this molecule\n",
    "MPBA.__dict__"
   ]
  },
  {
   "cell_type": "code",
   "execution_count": 11,
   "id": "9cf17d8e",
   "metadata": {
    "ExecuteTime": {
     "end_time": "2022-06-11T10:39:06.560409Z",
     "start_time": "2022-06-11T10:39:06.556634Z"
    }
   },
   "outputs": [
    {
     "data": {
      "text/plain": [
       "-4.205945206804405"
      ]
     },
     "execution_count": 11,
     "metadata": {},
     "output_type": "execute_result"
    }
   ],
   "source": [
    "# you can also access the rate prediction at a specific pH\n",
    "pH = 4\n",
    "specific_rate = MPBA.total_rate_point_predictor(pH)\n",
    "specific_rate"
   ]
  },
  {
   "cell_type": "code",
   "execution_count": 12,
   "id": "ce4cd3e0",
   "metadata": {
    "ExecuteTime": {
     "end_time": "2022-06-11T10:39:06.566253Z",
     "start_time": "2022-06-11T10:39:06.562372Z"
    }
   },
   "outputs": [
    {
     "data": {
      "text/plain": [
       "(3.09, 'hours')"
      ]
     },
     "execution_count": 12,
     "metadata": {},
     "output_type": "execute_result"
    }
   ],
   "source": [
    "# Or alternatively one can convert the predicted rate of protodeboronation to a halflife:\n",
    "pH = 4\n",
    "halflife = MPBA.halflife(pH)\n",
    "halflife"
   ]
  },
  {
   "cell_type": "code",
   "execution_count": 13,
   "id": "d217fd0c",
   "metadata": {
    "ExecuteTime": {
     "end_time": "2022-06-11T10:39:06.571094Z",
     "start_time": "2022-06-11T10:39:06.567769Z"
    }
   },
   "outputs": [
    {
     "data": {
      "text/plain": [
       "'KnownBoronicAcid(106)'"
      ]
     },
     "execution_count": 13,
     "metadata": {},
     "output_type": "execute_result"
    }
   ],
   "source": [
    "# And you can of course figure out how the object was created using repr, and what molecule it \n",
    "#   is (the smiles string) using str\n",
    "repr(MPBA)"
   ]
  },
  {
   "cell_type": "code",
   "execution_count": 14,
   "id": "51036e94",
   "metadata": {
    "ExecuteTime": {
     "end_time": "2022-06-11T10:39:06.575936Z",
     "start_time": "2022-06-11T10:39:06.572740Z"
    }
   },
   "outputs": [
    {
     "data": {
      "text/plain": [
       "'OB(O)C1=CC=C(OC(F)(F)F)C=C1'"
      ]
     },
     "execution_count": 14,
     "metadata": {},
     "output_type": "execute_result"
    }
   ],
   "source": [
    "str(MPBA)"
   ]
  },
  {
   "cell_type": "code",
   "execution_count": 15,
   "id": "6504c9dd",
   "metadata": {
    "ExecuteTime": {
     "end_time": "2022-06-11T10:39:06.582205Z",
     "start_time": "2022-06-11T10:39:06.578817Z"
    }
   },
   "outputs": [
    {
     "name": "stdout",
     "output_type": "stream",
     "text": [
      "OB(O)C1=CC=C(OC(F)(F)F)C=C1\n"
     ]
    }
   ],
   "source": [
    "print(MPBA)"
   ]
  },
  {
   "cell_type": "markdown",
   "id": "5f9c2830",
   "metadata": {},
   "source": [
    "# Training and saving linear mechanistic models"
   ]
  },
  {
   "cell_type": "code",
   "execution_count": 16,
   "id": "7ce253c5",
   "metadata": {
    "ExecuteTime": {
     "end_time": "2022-06-11T10:39:06.587776Z",
     "start_time": "2022-06-11T10:39:06.584625Z"
    }
   },
   "outputs": [],
   "source": [
    "from sklearn.linear_model import LinearRegression\n",
    "import pickle\n",
    "import pandas as pd\n",
    "import numpy as np"
   ]
  },
  {
   "cell_type": "code",
   "execution_count": 17,
   "id": "7e3fefa1",
   "metadata": {
    "ExecuteTime": {
     "end_time": "2022-06-11T10:39:06.594953Z",
     "start_time": "2022-06-11T10:39:06.590018Z"
    }
   },
   "outputs": [],
   "source": [
    "def train_and_save_model(mechanism):\n",
    "    df = pd.read_csv(f\"data/Cox-molecules/{mechanism}.csv\")\n",
    "    #remove null values\n",
    "    df = df[df.delta_E.notnull()]\n",
    "    df = df[df.k_obs_max.notnull()]\n",
    "    # extract the transition state energy and rate data and transform to np.array\n",
    "    delta_E_training = np.array(df[\"delta_E\"]).reshape((-1, 1))\n",
    "    k_obs_training = np.array(df[\"k_obs_max\"])\n",
    "\n",
    "    # train linear regression model\n",
    "    model = LinearRegression().fit(\n",
    "        delta_E_training, k_obs_training\n",
    "    )\n",
    "    \n",
    "    # save the model to disk\n",
    "    filename = f'models/{mechanism}_model.sav'\n",
    "    pickle.dump(model, open(filename, 'wb'))"
   ]
  },
  {
   "cell_type": "code",
   "execution_count": 18,
   "id": "03ca90fb",
   "metadata": {
    "ExecuteTime": {
     "end_time": "2022-06-11T10:39:06.624978Z",
     "start_time": "2022-06-11T10:39:06.596850Z"
    }
   },
   "outputs": [],
   "source": [
    "# train and save all the models\n",
    "mechanisms = [\"k1\", \"k2\", \"k2Ar\", \"k2cat\", \"k3\", \"k4\", \"k5\"]\n",
    "for mechanism in mechanisms:\n",
    "    train_and_save_model(mechanism)"
   ]
  },
  {
   "cell_type": "code",
   "execution_count": 19,
   "id": "fedb3b89",
   "metadata": {
    "ExecuteTime": {
     "end_time": "2022-06-11T10:39:06.630639Z",
     "start_time": "2022-06-11T10:39:06.626843Z"
    }
   },
   "outputs": [],
   "source": [
    "# load the model from disk\n",
    "filename = \"models/k1_model.sav\"\n",
    "loaded_model = pickle.load(open(filename, 'rb'))"
   ]
  },
  {
   "cell_type": "markdown",
   "id": "273ee088",
   "metadata": {},
   "source": [
    "# Generate predictions for your own molecules"
   ]
  },
  {
   "cell_type": "code",
   "execution_count": 20,
   "id": "69f30691",
   "metadata": {
    "ExecuteTime": {
     "end_time": "2022-06-11T10:39:06.634027Z",
     "start_time": "2022-06-11T10:39:06.632164Z"
    }
   },
   "outputs": [],
   "source": [
    "# You can also create predictions using your own DFT calculations and pKa/pKaH data"
   ]
  },
  {
   "cell_type": "code",
   "execution_count": 21,
   "id": "2fbcbf9d",
   "metadata": {
    "ExecuteTime": {
     "end_time": "2022-06-11T10:39:06.638915Z",
     "start_time": "2022-06-11T10:39:06.635985Z"
    }
   },
   "outputs": [],
   "source": [
    "from PDB_predictions import BoronicAcid"
   ]
  },
  {
   "cell_type": "code",
   "execution_count": 22,
   "id": "859ce81e",
   "metadata": {
    "ExecuteTime": {
     "end_time": "2022-06-11T10:39:06.645999Z",
     "start_time": "2022-06-11T10:39:06.641076Z"
    },
    "scrolled": true
   },
   "outputs": [],
   "source": [
    "# __init__(self, k1, k2, k2Ar, k2cat, k3, k4, k5, pKa, pKaH=None ):\n",
    "# Follow the syntax of the init function to populate the constructor.\n",
    "# If the mechanistic pathway is active, give the energy difference\n",
    "# If the mechanistic pathway is inactive, simply put None\n",
    "# In the example below k1, k2, and k2cat are active (random numbers were used for energies)\n",
    "new_BA = BoronicAcid(0.525224353, 0.008927473, None, 0.085182345, None, None, None, 9.15, None)"
   ]
  },
  {
   "cell_type": "code",
   "execution_count": 23,
   "id": "56ee3a28",
   "metadata": {
    "ExecuteTime": {
     "end_time": "2022-06-11T10:39:06.806521Z",
     "start_time": "2022-06-11T10:39:06.649242Z"
    },
    "scrolled": true
   },
   "outputs": [
    {
     "data": {
      "image/png": "[encoded data removed]",
      "text/plain": [
       "<Figure size 720x360 with 1 Axes>"
      ]
     },
     "metadata": {
      "needs_background": "light"
     },
     "output_type": "display_data"
    }
   ],
   "source": [
    "new_BA_fig = new_BA.plot_result(\"Predicted rate of PDB for hypothetical BA\")"
   ]
  },
  {
   "cell_type": "code",
   "execution_count": 24,
   "id": "4a5cbc4a",
   "metadata": {
    "ExecuteTime": {
     "end_time": "2022-06-11T10:39:06.813706Z",
     "start_time": "2022-06-11T10:39:06.808734Z"
    },
    "scrolled": true
   },
   "outputs": [
    {
     "data": {
      "text/plain": [
       "{'k1': -5.258959061559992,\n",
       " 'k2': -3.2573810864368777,\n",
       " 'k2Ar': None,\n",
       " 'k2cat': -2.9338997751196763,\n",
       " 'k3': None,\n",
       " 'k4': None,\n",
       " 'k5': None,\n",
       " 'pKa': 9.15,\n",
       " 'pKaH': None}"
      ]
     },
     "execution_count": 24,
     "metadata": {},
     "output_type": "execute_result"
    }
   ],
   "source": [
    "# And you can of course still access info about this molecule\n",
    "new_BA.__dict__"
   ]
  },
  {
   "cell_type": "code",
   "execution_count": 25,
   "id": "1184ac99",
   "metadata": {
    "ExecuteTime": {
     "end_time": "2022-06-11T10:39:06.820035Z",
     "start_time": "2022-06-11T10:39:06.815737Z"
    }
   },
   "outputs": [
    {
     "data": {
      "text/plain": [
       "'BoronicAcid(-5.258959061559992, -3.2573810864368777, None, -2.9338997751196763, None, None, None, 9.15, None)'"
      ]
     },
     "execution_count": 25,
     "metadata": {},
     "output_type": "execute_result"
    }
   ],
   "source": [
    "# And you can of course figure out how the object was created using repr\n",
    "repr(new_BA)"
   ]
  },
  {
   "cell_type": "code",
   "execution_count": 26,
   "id": "c5907e7d",
   "metadata": {
    "ExecuteTime": {
     "end_time": "2022-06-11T10:39:06.827900Z",
     "start_time": "2022-06-11T10:39:06.822883Z"
    }
   },
   "outputs": [
    {
     "data": {
      "text/plain": [
       "-7.116739272305702"
      ]
     },
     "execution_count": 26,
     "metadata": {},
     "output_type": "execute_result"
    }
   ],
   "source": [
    "# you can also access the rate prediction at a specific pH\n",
    "pH = 4\n",
    "specific_rate = new_BA.total_rate_point_predictor(pH)\n",
    "specific_rate"
   ]
  },
  {
   "cell_type": "code",
   "execution_count": 27,
   "id": "0d84ea46",
   "metadata": {
    "ExecuteTime": {
     "end_time": "2022-06-11T10:39:06.833850Z",
     "start_time": "2022-06-11T10:39:06.830073Z"
    }
   },
   "outputs": [
    {
     "data": {
      "text/plain": [
       "(3.5, 'months')"
      ]
     },
     "execution_count": 27,
     "metadata": {},
     "output_type": "execute_result"
    }
   ],
   "source": [
    "# Or alternatively one can convert the predicted rate of protodeboronation to a halflife:\n",
    "pH = 4\n",
    "halflife = new_BA.halflife(pH)\n",
    "halflife"
   ]
  },
  {
   "cell_type": "code",
   "execution_count": null,
   "id": "772ff99a",
   "metadata": {},
   "outputs": [],
   "source": []
  }
 ],
 "metadata": {
  "kernelspec": {
   "display_name": "PDB",
   "language": "python",
   "name": "pdb"
  },
  "language_info": {
   "codemirror_mode": {
    "name": "ipython",
    "version": 3
   },
   "file_extension": ".py",
   "mimetype": "text/x-python",
   "name": "python",
   "nbconvert_exporter": "python",
   "pygments_lexer": "ipython3",
   "version": "3.10.4"
  },
  "toc": {
   "base_numbering": 1,
   "nav_menu": {},
   "number_sections": true,
   "sideBar": true,
   "skip_h1_title": false,
   "title_cell": "Table of Contents",
   "title_sidebar": "Contents",
   "toc_cell": true,
   "toc_position": {
    "height": "calc(100% - 180px)",
    "left": "10px",
    "top": "150px",
    "width": "165px"
   },
   "toc_section_display": true,
   "toc_window_display": true
  },
  "varInspector": {
   "cols": {
    "lenName": 16,
    "lenType": 16,
    "lenVar": 40
   },
   "kernels_config": {
    "python": {
     "delete_cmd_postfix": "",
     "delete_cmd_prefix": "del ",
     "library": "var_list.py",
     "varRefreshCmd": "print(var_dic_list())"
    },
    "r": {
     "delete_cmd_postfix": ") ",
     "delete_cmd_prefix": "rm(",
     "library": "var_list.r",
     "varRefreshCmd": "cat(var_dic_list()) "
    }
   },
   "types_to_exclude": [
    "module",
    "function",
    "builtin_function_or_method",
    "instance",
    "_Feature"
   ],
   "window_display": false
  }
 },
 "nbformat": 4,
 "nbformat_minor": 5
}
