{
 "cells": [
  {
   "cell_type": "markdown",
   "id": "f87842c2",
   "metadata": {
    "toc": true
   },
   "source": [
    "<h1>Table of Contents<span class=\"tocSkip\"></span></h1>\n",
    "<div class=\"toc\"><ul class=\"toc-item\"><li><span><a href=\"#Reproducing-results\" data-toc-modified-id=\"Reproducing-results-1\"><span class=\"toc-item-num\">1&nbsp;&nbsp;</span>Reproducing results</a></span><ul class=\"toc-item\"><li><span><a href=\"#Cox's-molecules\" data-toc-modified-id=\"Cox's-molecules-1.1\"><span class=\"toc-item-num\">1.1&nbsp;&nbsp;</span>Cox's molecules</a></span></li><li><span><a href=\"#Novel-molecules\" data-toc-modified-id=\"Novel-molecules-1.2\"><span class=\"toc-item-num\">1.2&nbsp;&nbsp;</span>Novel molecules</a></span></li></ul></li><li><span><a href=\"#Training-and-saving-linear-mechanistic-models\" data-toc-modified-id=\"Training-and-saving-linear-mechanistic-models-2\"><span class=\"toc-item-num\">2&nbsp;&nbsp;</span>Training and saving linear mechanistic models</a></span></li><li><span><a href=\"#Generate-predictions-for-your-own-molecules\" data-toc-modified-id=\"Generate-predictions-for-your-own-molecules-3\"><span class=\"toc-item-num\">3&nbsp;&nbsp;</span>Generate predictions for your own molecules</a></span></li></ul></div>"
   ]
  },
  {
   "cell_type": "markdown",
   "id": "f5122058",
   "metadata": {},
   "source": [
    "# Reproducing results"
   ]
  },
  {
   "cell_type": "markdown",
   "id": "83c6125b",
   "metadata": {
    "ExecuteTime": {
     "end_time": "2022-06-02T18:42:34.888167Z",
     "start_time": "2022-06-02T18:42:34.884438Z"
    }
   },
   "source": [
    "## Cox's molecules"
   ]
  },
  {
   "cell_type": "code",
   "execution_count": 1,
   "id": "b38b0101",
   "metadata": {
    "ExecuteTime": {
     "end_time": "2022-10-07T17:07:54.278741Z",
     "start_time": "2022-10-07T17:07:52.757522Z"
    },
    "scrolled": true
   },
   "outputs": [],
   "source": [
    "from PDB_predictions import KnownBoronicAcid"
   ]
  },
  {
   "cell_type": "code",
   "execution_count": 2,
   "id": "2c3d8aaa",
   "metadata": {
    "ExecuteTime": {
     "end_time": "2022-10-07T17:07:54.980594Z",
     "start_time": "2022-10-07T17:07:54.940031Z"
    }
   },
   "outputs": [],
   "source": [
    "# Initialise class instance\n",
    "# Molecules are accessed using their molecule index, which can be found in the paper\n",
    "PBA = KnownBoronicAcid(61)\n"
   ]
  },
  {
   "cell_type": "code",
   "execution_count": 3,
   "id": "d28e9bd9",
   "metadata": {
    "ExecuteTime": {
     "end_time": "2022-10-07T17:07:55.631201Z",
     "start_time": "2022-10-07T17:07:55.625201Z"
    }
   },
   "outputs": [
    {
     "data": {
      "text/plain": [
       "{'molecule_ID': 61,\n",
       " 'k1': -5.735156396605145,\n",
       " 'k2': -4.59737123395706,\n",
       " 'k2Ar': None,\n",
       " 'k2cat': None,\n",
       " 'k3': -5.19,\n",
       " 'k4': -6.516208836656256,\n",
       " 'k5': None,\n",
       " 'pKa': 10.45,\n",
       " 'pKaH': 0.04,\n",
       " 'smiles': 'Cc1noc(C)c1B(O)O'}"
      ]
     },
     "execution_count": 3,
     "metadata": {},
     "output_type": "execute_result"
    }
   ],
   "source": [
    "# Access the rate predictions of each mechanistic pathway through the instance:\n",
    "PBA.__dict__"
   ]
  },
  {
   "cell_type": "code",
   "execution_count": 4,
   "id": "10f48f02",
   "metadata": {
    "ExecuteTime": {
     "end_time": "2022-10-07T17:07:56.485757Z",
     "start_time": "2022-10-07T17:07:56.312385Z"
    }
   },
   "outputs": [
    {
     "data": {
      "image/png": "[encoded data removed]",
      "text/plain": [
       "<Figure size 720x360 with 1 Axes>"
      ]
     },
     "metadata": {
      "needs_background": "light"
     },
     "output_type": "display_data"
    }
   ],
   "source": [
    "# Plot the protodeboronation graph\n",
    "PBA_figure = PBA.plot_result()"
   ]
  },
  {
   "cell_type": "code",
   "execution_count": 5,
   "id": "f304a5b1",
   "metadata": {
    "ExecuteTime": {
     "end_time": "2022-10-07T17:07:56.782432Z",
     "start_time": "2022-10-07T17:07:56.776202Z"
    }
   },
   "outputs": [
    {
     "data": {
      "text/plain": [
       "'KnownBoronicAcid(61)'"
      ]
     },
     "execution_count": 5,
     "metadata": {},
     "output_type": "execute_result"
    }
   ],
   "source": [
    "# And you can of course figure out how the object was created using repr, and what molecule it \n",
    "#   is (the smiles string) using str\n",
    "repr(PBA)"
   ]
  },
  {
   "cell_type": "code",
   "execution_count": 6,
   "id": "5a9a151c",
   "metadata": {
    "ExecuteTime": {
     "end_time": "2022-10-07T17:07:57.294025Z",
     "start_time": "2022-10-07T17:07:57.287822Z"
    }
   },
   "outputs": [
    {
     "data": {
      "text/plain": [
       "'Cc1noc(C)c1B(O)O'"
      ]
     },
     "execution_count": 6,
     "metadata": {},
     "output_type": "execute_result"
    }
   ],
   "source": [
    "str(PBA)"
   ]
  },
  {
   "cell_type": "code",
   "execution_count": 7,
   "id": "8f02e345",
   "metadata": {
    "ExecuteTime": {
     "end_time": "2022-10-07T17:07:58.309211Z",
     "start_time": "2022-10-07T17:07:58.303612Z"
    }
   },
   "outputs": [
    {
     "data": {
      "text/plain": [
       "KnownBoronicAcid(61)"
      ]
     },
     "execution_count": 7,
     "metadata": {},
     "output_type": "execute_result"
    }
   ],
   "source": [
    "PBA"
   ]
  },
  {
   "cell_type": "markdown",
   "id": "cc78b49d",
   "metadata": {},
   "source": [
    "## Novel molecules"
   ]
  },
  {
   "cell_type": "code",
   "execution_count": 8,
   "id": "13e4c18f",
   "metadata": {
    "ExecuteTime": {
     "end_time": "2022-10-07T17:07:59.278387Z",
     "start_time": "2022-10-07T17:07:59.239480Z"
    }
   },
   "outputs": [],
   "source": [
    "# Can also specify a molecule which we don't have ground truth for\n",
    "# E.g. (2-methylpyridin-3-yl)boronic acid aka. MPBA\n",
    "MPBA = KnownBoronicAcid(106)"
   ]
  },
  {
   "cell_type": "code",
   "execution_count": 9,
   "id": "e32f715a",
   "metadata": {
    "ExecuteTime": {
     "end_time": "2022-10-07T17:08:00.086018Z",
     "start_time": "2022-10-07T17:07:59.935116Z"
    }
   },
   "outputs": [
    {
     "data": {
      "image/png": "[encoded data removed]",
      "text/plain": [
       "<Figure size 720x360 with 1 Axes>"
      ]
     },
     "metadata": {
      "needs_background": "light"
     },
     "output_type": "display_data"
    }
   ],
   "source": [
    "# Plot the protodeboronation graph\n",
    "# In this case, the measured rate will of course not be plotted, \n",
    "#    since measurements for this molecule don't exist\n",
    "MPBA_figure = MPBA.plot_result()"
   ]
  },
  {
   "cell_type": "code",
   "execution_count": 10,
   "id": "63c388a3",
   "metadata": {
    "ExecuteTime": {
     "end_time": "2022-10-07T17:08:00.531402Z",
     "start_time": "2022-10-07T17:08:00.526728Z"
    },
    "scrolled": true
   },
   "outputs": [
    {
     "data": {
      "text/plain": [
       "{'molecule_ID': 106,\n",
       " 'k1': None,\n",
       " 'k2': -5.1709884045444925,\n",
       " 'k2Ar': None,\n",
       " 'k2cat': None,\n",
       " 'k3': None,\n",
       " 'k4': -3.228637209849788,\n",
       " 'k5': None,\n",
       " 'pKa': 9.484599999999999,\n",
       " 'pKaH': 1.7525000000000002,\n",
       " 'smiles': 'OB(O)C1=CC=C(OC(F)(F)F)C=C1'}"
      ]
     },
     "execution_count": 10,
     "metadata": {},
     "output_type": "execute_result"
    }
   ],
   "source": [
    "# And again we can easily find the relevant information about this molecule\n",
    "MPBA.__dict__"
   ]
  },
  {
   "cell_type": "code",
   "execution_count": 11,
   "id": "9cf17d8e",
   "metadata": {
    "ExecuteTime": {
     "end_time": "2022-10-07T17:08:01.068391Z",
     "start_time": "2022-10-07T17:08:01.061265Z"
    }
   },
   "outputs": [
    {
     "data": {
      "text/plain": [
       "-3.2286368279205333"
      ]
     },
     "execution_count": 11,
     "metadata": {},
     "output_type": "execute_result"
    }
   ],
   "source": [
    "# you can also access the rate prediction at a specific pH\n",
    "pH = 4\n",
    "specific_rate = MPBA.total_rate_point_predictor(pH)\n",
    "specific_rate"
   ]
  },
  {
   "cell_type": "code",
   "execution_count": 12,
   "id": "ce4cd3e0",
   "metadata": {
    "ExecuteTime": {
     "end_time": "2022-10-07T17:08:01.588323Z",
     "start_time": "2022-10-07T17:08:01.582974Z"
    }
   },
   "outputs": [
    {
     "data": {
      "text/plain": [
       "(19.56, 'minutes')"
      ]
     },
     "execution_count": 12,
     "metadata": {},
     "output_type": "execute_result"
    }
   ],
   "source": [
    "# Or alternatively one can convert the predicted rate of protodeboronation to a halflife:\n",
    "pH = 4\n",
    "halflife = MPBA.halflife(pH)\n",
    "halflife"
   ]
  },
  {
   "cell_type": "code",
   "execution_count": 13,
   "id": "d217fd0c",
   "metadata": {
    "ExecuteTime": {
     "end_time": "2022-10-07T17:08:02.053834Z",
     "start_time": "2022-10-07T17:08:02.048474Z"
    }
   },
   "outputs": [
    {
     "data": {
      "text/plain": [
       "'KnownBoronicAcid(106)'"
      ]
     },
     "execution_count": 13,
     "metadata": {},
     "output_type": "execute_result"
    }
   ],
   "source": [
    "# And you can of course figure out how the object was created using repr, and what molecule it \n",
    "#   is (the smiles string) using str\n",
    "repr(MPBA)"
   ]
  },
  {
   "cell_type": "code",
   "execution_count": 14,
   "id": "51036e94",
   "metadata": {
    "ExecuteTime": {
     "end_time": "2022-10-07T17:08:02.588980Z",
     "start_time": "2022-10-07T17:08:02.583994Z"
    }
   },
   "outputs": [
    {
     "data": {
      "text/plain": [
       "'OB(O)C1=CC=C(OC(F)(F)F)C=C1'"
      ]
     },
     "execution_count": 14,
     "metadata": {},
     "output_type": "execute_result"
    }
   ],
   "source": [
    "str(MPBA)"
   ]
  },
  {
   "cell_type": "code",
   "execution_count": 15,
   "id": "6504c9dd",
   "metadata": {
    "ExecuteTime": {
     "end_time": "2022-10-07T17:08:02.976276Z",
     "start_time": "2022-10-07T17:08:02.972553Z"
    }
   },
   "outputs": [
    {
     "name": "stdout",
     "output_type": "stream",
     "text": [
      "OB(O)C1=CC=C(OC(F)(F)F)C=C1\n"
     ]
    }
   ],
   "source": [
    "print(MPBA)"
   ]
  },
  {
   "cell_type": "markdown",
   "id": "5f9c2830",
   "metadata": {},
   "source": [
    "# Training and saving linear mechanistic models"
   ]
  },
  {
   "cell_type": "code",
   "execution_count": 16,
   "id": "7ce253c5",
   "metadata": {
    "ExecuteTime": {
     "end_time": "2022-10-07T17:08:04.103224Z",
     "start_time": "2022-10-07T17:08:04.098822Z"
    }
   },
   "outputs": [],
   "source": [
    "from sklearn.linear_model import LinearRegression\n",
    "import pickle\n",
    "import pandas as pd\n",
    "import numpy as np"
   ]
  },
  {
   "cell_type": "code",
   "execution_count": 17,
   "id": "7e3fefa1",
   "metadata": {
    "ExecuteTime": {
     "end_time": "2022-10-07T17:08:05.484810Z",
     "start_time": "2022-10-07T17:08:05.478678Z"
    }
   },
   "outputs": [],
   "source": [
    "def train_and_save_model(mechanism):\n",
    "    df = pd.read_csv(f\"data/Cox-molecules/{mechanism}.csv\")\n",
    "    #remove null values\n",
    "    df = df[df.delta_E.notnull()]\n",
    "    df = df[df.k_obs_max.notnull()]\n",
    "    # extract the transition state energy and rate data and transform to np.array\n",
    "    delta_E_training = np.array(df[\"delta_E\"]).reshape((-1, 1))\n",
    "    k_obs_training = np.array(df[\"k_obs_max\"])\n",
    "\n",
    "    # train linear regression model\n",
    "    model = LinearRegression().fit(\n",
    "        delta_E_training, k_obs_training\n",
    "    )\n",
    "    \n",
    "    # save the model to disk\n",
    "    filename = f'models/{mechanism}_model.sav'\n",
    "    pickle.dump(model, open(filename, 'wb'))"
   ]
  },
  {
   "cell_type": "code",
   "execution_count": 18,
   "id": "03ca90fb",
   "metadata": {
    "ExecuteTime": {
     "end_time": "2022-10-07T17:08:06.690580Z",
     "start_time": "2022-10-07T17:08:06.654804Z"
    }
   },
   "outputs": [],
   "source": [
    "# train and save all the models\n",
    "mechanisms = [\"k1\", \"k2\", \"k2Ar\", \"k2cat\", \"k3\", \"k4\", \"k5\"]\n",
    "for mechanism in mechanisms:\n",
    "    train_and_save_model(mechanism)"
   ]
  },
  {
   "cell_type": "code",
   "execution_count": 19,
   "id": "fedb3b89",
   "metadata": {
    "ExecuteTime": {
     "end_time": "2022-10-07T17:08:07.407846Z",
     "start_time": "2022-10-07T17:08:07.402973Z"
    }
   },
   "outputs": [],
   "source": [
    "# load the model from disk\n",
    "filename = \"models/k1_model.sav\"\n",
    "loaded_model = pickle.load(open(filename, 'rb'))"
   ]
  },
  {
   "cell_type": "markdown",
   "id": "273ee088",
   "metadata": {},
   "source": [
    "# Generate predictions for your own molecules"
   ]
  },
  {
   "cell_type": "code",
   "execution_count": 20,
   "id": "69f30691",
   "metadata": {
    "ExecuteTime": {
     "end_time": "2022-10-07T17:08:08.438689Z",
     "start_time": "2022-10-07T17:08:08.435278Z"
    }
   },
   "outputs": [],
   "source": [
    "# You can also create predictions using your own DFT calculations and pKa/pKaH data"
   ]
  },
  {
   "cell_type": "code",
   "execution_count": 21,
   "id": "2fbcbf9d",
   "metadata": {
    "ExecuteTime": {
     "end_time": "2022-10-07T17:08:08.970114Z",
     "start_time": "2022-10-07T17:08:08.966321Z"
    }
   },
   "outputs": [],
   "source": [
    "from PDB_predictions import BoronicAcid"
   ]
  },
  {
   "cell_type": "code",
   "execution_count": 22,
   "id": "859ce81e",
   "metadata": {
    "ExecuteTime": {
     "end_time": "2022-10-07T17:08:09.780787Z",
     "start_time": "2022-10-07T17:08:09.774797Z"
    },
    "scrolled": true
   },
   "outputs": [],
   "source": [
    "# __init__(self, k1, k2, k2Ar, k2cat, k3, k4, k5, pKa, pKaH=None ):\n",
    "# Follow the syntax of the init function to populate the constructor.\n",
    "# If the mechanistic pathway is active, give the energy difference\n",
    "# If the mechanistic pathway is inactive, simply put None\n",
    "# In the example below k1, k2, and k2cat are active (random numbers were used for energies)\n",
    "new_BA = BoronicAcid(-0.022129365, 0.037592502, None, -0.034850214, None, None, None, 9.15, None)"
   ]
  },
  {
   "cell_type": "code",
   "execution_count": 23,
   "id": "56ee3a28",
   "metadata": {
    "ExecuteTime": {
     "end_time": "2022-10-07T17:08:10.442819Z",
     "start_time": "2022-10-07T17:08:10.290873Z"
    },
    "scrolled": true
   },
   "outputs": [
    {
     "data": {
      "image/png": "[encoded data removed]",
      "text/plain": [
       "<Figure size 720x360 with 1 Axes>"
      ]
     },
     "metadata": {
      "needs_background": "light"
     },
     "output_type": "display_data"
    }
   ],
   "source": [
    "new_BA_fig = new_BA.plot_result(\"Predicted rate of PDB for hypothetical BA\")"
   ]
  },
  {
   "cell_type": "code",
   "execution_count": 24,
   "id": "4a5cbc4a",
   "metadata": {
    "ExecuteTime": {
     "end_time": "2022-10-07T17:08:11.004958Z",
     "start_time": "2022-10-07T17:08:11.000627Z"
    },
    "scrolled": true
   },
   "outputs": [
    {
     "data": {
      "text/plain": [
       "{'k1': -4.516800273795681,\n",
       " 'k2': -7.2640306691016425,\n",
       " 'k2Ar': None,\n",
       " 'k2cat': -3.21353643691403,\n",
       " 'k3': None,\n",
       " 'k4': None,\n",
       " 'k5': None,\n",
       " 'pKa': 9.15,\n",
       " 'pKaH': None}"
      ]
     },
     "execution_count": 24,
     "metadata": {},
     "output_type": "execute_result"
    }
   ],
   "source": [
    "# And you can of course still access info about this molecule\n",
    "new_BA.__dict__"
   ]
  },
  {
   "cell_type": "code",
   "execution_count": 25,
   "id": "1184ac99",
   "metadata": {
    "ExecuteTime": {
     "end_time": "2022-10-07T17:08:11.756169Z",
     "start_time": "2022-10-07T17:08:11.752400Z"
    }
   },
   "outputs": [
    {
     "data": {
      "text/plain": [
       "'BoronicAcid(-4.516800273795681, -7.2640306691016425, None, -3.21353643691403, None, None, None, 9.15, None)'"
      ]
     },
     "execution_count": 25,
     "metadata": {},
     "output_type": "execute_result"
    }
   ],
   "source": [
    "# And you can of course figure out how the object was created using repr\n",
    "repr(new_BA)"
   ]
  },
  {
   "cell_type": "code",
   "execution_count": 26,
   "id": "c5907e7d",
   "metadata": {
    "ExecuteTime": {
     "end_time": "2022-10-07T17:08:12.387257Z",
     "start_time": "2022-10-07T17:08:12.383245Z"
    }
   },
   "outputs": [
    {
     "data": {
      "text/plain": [
       "-8.515730488215409"
      ]
     },
     "execution_count": 26,
     "metadata": {},
     "output_type": "execute_result"
    }
   ],
   "source": [
    "# you can also access the rate prediction at a specific pH\n",
    "pH = 4\n",
    "specific_rate = new_BA.total_rate_point_predictor(pH)\n",
    "specific_rate"
   ]
  },
  {
   "cell_type": "code",
   "execution_count": 27,
   "id": "0d84ea46",
   "metadata": {
    "ExecuteTime": {
     "end_time": "2022-10-07T17:08:13.298804Z",
     "start_time": "2022-10-07T17:08:13.294806Z"
    }
   },
   "outputs": [
    {
     "data": {
      "text/plain": [
       "(87.68, 'months')"
      ]
     },
     "execution_count": 27,
     "metadata": {},
     "output_type": "execute_result"
    }
   ],
   "source": [
    "# Or alternatively one can convert the predicted rate of protodeboronation to a halflife:\n",
    "pH = 4\n",
    "halflife = new_BA.halflife(pH)\n",
    "halflife"
   ]
  },
  {
   "cell_type": "code",
   "execution_count": null,
   "id": "772ff99a",
   "metadata": {},
   "outputs": [],
   "source": []
  },
  {
   "cell_type": "code",
   "execution_count": null,
   "id": "b50e55cd",
   "metadata": {},
   "outputs": [],
   "source": []
  }
 ],
 "metadata": {
  "kernelspec": {
   "display_name": "protodeboronation2",
   "language": "python",
   "name": "protodeboronation2"
  },
  "language_info": {
   "codemirror_mode": {
    "name": "ipython",
    "version": 3
   },
   "file_extension": ".py",
   "mimetype": "text/x-python",
   "name": "python",
   "nbconvert_exporter": "python",
   "pygments_lexer": "ipython3",
   "version": "3.9.7"
  },
  "toc": {
   "base_numbering": 1,
   "nav_menu": {},
   "number_sections": true,
   "sideBar": true,
   "skip_h1_title": false,
   "title_cell": "Table of Contents",
   "title_sidebar": "Contents",
   "toc_cell": true,
   "toc_position": {
    "height": "calc(100% - 180px)",
    "left": "10px",
    "top": "150px",
    "width": "165px"
   },
   "toc_section_display": true,
   "toc_window_display": true
  },
  "varInspector": {
   "cols": {
    "lenName": 16,
    "lenType": 16,
    "lenVar": 40
   },
   "kernels_config": {
    "python": {
     "delete_cmd_postfix": "",
     "delete_cmd_prefix": "del ",
     "library": "var_list.py",
     "varRefreshCmd": "print(var_dic_list())"
    },
    "r": {
     "delete_cmd_postfix": ") ",
     "delete_cmd_prefix": "rm(",
     "library": "var_list.r",
     "varRefreshCmd": "cat(var_dic_list()) "
    }
   },
   "types_to_exclude": [
    "module",
    "function",
    "builtin_function_or_method",
    "instance",
    "_Feature"
   ],
   "window_display": false
  }
 },
 "nbformat": 4,
 "nbformat_minor": 5
}
