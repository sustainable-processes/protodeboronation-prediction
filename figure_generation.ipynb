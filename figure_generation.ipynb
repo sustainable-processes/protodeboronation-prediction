{
 "cells": [
  {
   "cell_type": "markdown",
   "metadata": {
    "toc": true
   },
   "source": [
    "<h1>Table of Contents<span class=\"tocSkip\"></span></h1>\n",
    "<div class=\"toc\"><ul class=\"toc-item\"><li><span><a href=\"#Imports\" data-toc-modified-id=\"Imports-1\"><span class=\"toc-item-num\">1&nbsp;&nbsp;</span>Imports</a></span></li><li><span><a href=\"#Plot-delta-E-vs-log(k_n)\" data-toc-modified-id=\"Plot-delta-E-vs-log(k_n)-2\"><span class=\"toc-item-num\">2&nbsp;&nbsp;</span>Plot delta E vs log(k_n)</a></span></li><li><span><a href=\"#Parity-plot\" data-toc-modified-id=\"Parity-plot-3\"><span class=\"toc-item-num\">3&nbsp;&nbsp;</span>Parity plot</a></span></li><li><span><a href=\"#Figure-4-&amp;-5:-molecule-61\" data-toc-modified-id=\"Figure-4-&amp;-5:-molecule-61-4\"><span class=\"toc-item-num\">4&nbsp;&nbsp;</span>Figure 4 &amp; 5: molecule 61</a></span></li></ul></div>"
   ]
  },
  {
   "cell_type": "markdown",
   "metadata": {},
   "source": [
    "# Imports"
   ]
  },
  {
   "cell_type": "code",
   "execution_count": 3,
   "metadata": {
    "ExecuteTime": {
     "end_time": "2022-11-04T16:49:11.680978Z",
     "start_time": "2022-11-04T16:49:11.676535Z"
    }
   },
   "outputs": [],
   "source": [
    "import pandas as pd\n",
    "from sklearn.linear_model import LinearRegression\n",
    "import matplotlib.pyplot as plt"
   ]
  },
  {
   "cell_type": "markdown",
   "metadata": {
    "ExecuteTime": {
     "end_time": "2022-10-06T17:09:44.990750Z",
     "start_time": "2022-10-06T17:09:44.986740Z"
    }
   },
   "source": [
    "# Plot delta E vs log(k_n)"
   ]
  },
  {
   "cell_type": "code",
   "execution_count": 9,
   "metadata": {
    "ExecuteTime": {
     "end_time": "2022-11-04T16:54:17.318576Z",
     "start_time": "2022-11-04T16:54:17.312045Z"
    }
   },
   "outputs": [],
   "source": [
    "def plot_dE_vs_logk(mechanism):\n",
    "    \"\"\"\n",
    "    mechanism: 'k1' etc\n",
    "    \"\"\"\n",
    "    df = pd.read_csv(f'data/Cox-molecules/{mechanism}.csv')\n",
    "    \n",
    "    \n",
    "    #extracting and generating data\n",
    "    delta_E = np.array(df['delta_E']).reshape((-1, 1))\n",
    "    k_obs = np.array(df['k_obs_max'])\n",
    "    k1_max = LinearRegression().fit(delta_E, k_obs)\n",
    "    k1_score = k1_max.score(delta_E, k_obs)\n",
    "    \n",
    "    #plotting parameters\n",
    "    E_min = min(delta_E) - abs(0.05*max(delta_E))\n",
    "    E_max = max(delta_E) + abs(0.05*max(delta_E))\n",
    "    x = np.arange(-10,5,0.1)\n",
    "    a = k1_max.coef_[0]\n",
    "    b = k1_max.intercept_\n",
    "    \n",
    "\n",
    "    \n",
    "    plt.plot(delta_E, k_obs, 'go', label = 'Experimental data')\n",
    "    plt.plot(x, a*x+b, 'k-', label = f'Linear regression, $R^2 = {round(k1_score,2)}$')\n",
    "    plt.ylim([-10,3])\n",
    "    plt.xlim([E_min,E_max])\n",
    "    plt.title(mechanism, style='italic')\n",
    "    plt.xlabel('\\u0394E')\n",
    "    plt.ylabel('log($\\it{k}$)')\n",
    "    plt.rcParams.update({'font.size': 14})\n",
    "    plt.legend(prop={\"size\":14})\n",
    "    \n",
    "    #save it\n",
    "    plt.savefig(f'figures/{mechanism}_dE_plot.png',  dpi=600)\n",
    "    plt.clf()\n"
   ]
  },
  {
   "cell_type": "code",
   "execution_count": 10,
   "metadata": {
    "ExecuteTime": {
     "end_time": "2022-11-04T16:54:22.008217Z",
     "start_time": "2022-11-04T16:54:18.046302Z"
    }
   },
   "outputs": [
    {
     "data": {
      "text/plain": [
       "<Figure size 432x288 with 0 Axes>"
      ]
     },
     "metadata": {},
     "output_type": "display_data"
    }
   ],
   "source": [
    "mechanisms = ['k1', 'k2', 'k2Ar', 'k2cat', 'k3', 'k4', 'k5']\n",
    "for i in mechanisms:\n",
    "    plot_dE_vs_logk(i)"
   ]
  },
  {
   "cell_type": "markdown",
   "metadata": {},
   "source": [
    "# Parity plot"
   ]
  },
  {
   "cell_type": "code",
   "execution_count": 4,
   "metadata": {
    "ExecuteTime": {
     "end_time": "2022-10-07T17:06:41.718634Z",
     "start_time": "2022-10-07T17:06:41.711530Z"
    }
   },
   "outputs": [],
   "source": [
    "from PDB_predictions import KnownBoronicAcid\n",
    "import csv"
   ]
  },
  {
   "cell_type": "code",
   "execution_count": 5,
   "metadata": {
    "ExecuteTime": {
     "end_time": "2022-10-07T17:06:42.824101Z",
     "start_time": "2022-10-07T17:06:42.815128Z"
    }
   },
   "outputs": [],
   "source": [
    "def write_parity_plot_points(molecule_number, filepath, dataset: pd.DataFrame):\n",
    "    \"\"\"\n",
    "    dataset: full measurements dataset\n",
    "    Writes rows of predicted vs measured rate to a csv at filepath\n",
    "    \"\"\"\n",
    "    #Check if the file already exists. If it doesn't, write a header\n",
    "    try:\n",
    "        f = open(filepath,'r')\n",
    "        f.close()\n",
    "    except FileNotFoundError:\n",
    "        f = open(filepath,'w')\n",
    "        writer = csv.writer(f)\n",
    "        row = ['Molecule', 'pH', 'measured_rate', 'predicted_rate']\n",
    "        writer.writerow(row)\n",
    "        f.close()\n",
    "\n",
    "\n",
    "    # open the file in append mode\n",
    "    f = open(filepath, 'a')\n",
    "    # create the csv writer\n",
    "    writer = csv.writer(f)\n",
    "    \n",
    "    query_molecule = KnownBoronicAcid(molecule_number)\n",
    "    \n",
    "    # remove all rate measurements that aren't about the query molecule\n",
    "    query_molecule_df = dataset[dataset['molecule_number'] == molecule_number]\n",
    "    query_molecule_df.reset_index(inplace = True)\n",
    "\n",
    "\n",
    "\n",
    "    for i in range(len(query_molecule_df)):\n",
    "        pH = query_molecule_df['pH'][i]\n",
    "        measured = query_molecule_df['log(k_obs)'][i]\n",
    "        predicted = query_molecule.total_rate_point_predictor(pH)\n",
    "        row = [molecule_number, pH, measured, predicted]\n",
    "\n",
    "        # write a row to the csv file\n",
    "        writer.writerow(row)\n",
    "\n",
    "    # close the file\n",
    "    f.close()"
   ]
  },
  {
   "cell_type": "code",
   "execution_count": 6,
   "metadata": {
    "ExecuteTime": {
     "end_time": "2022-10-07T17:06:44.925757Z",
     "start_time": "2022-10-07T17:06:43.796228Z"
    }
   },
   "outputs": [],
   "source": [
    "measurements = pd.read_csv('data/Cox-molecules/Cox-molecules-data.csv')\n",
    "valid_molecules = list(set(list(measurements['molecule_number'])))\n",
    "for molecule in valid_molecules:\n",
    "    write_parity_plot_points(molecule,'data/Cox-molecules/parityplot.csv', measurements)"
   ]
  },
  {
   "cell_type": "code",
   "execution_count": 7,
   "metadata": {
    "ExecuteTime": {
     "end_time": "2022-10-07T17:06:45.418047Z",
     "start_time": "2022-10-07T17:06:45.410688Z"
    }
   },
   "outputs": [],
   "source": [
    "parity_df = pd.read_csv('data/Cox-molecules/parityplot.csv')\n",
    "measured = list(parity_df['measured_rate'])\n",
    "predicted = list(parity_df['predicted_rate'])"
   ]
  },
  {
   "cell_type": "code",
   "execution_count": 8,
   "metadata": {
    "ExecuteTime": {
     "end_time": "2022-10-07T17:06:46.773507Z",
     "start_time": "2022-10-07T17:06:46.477584Z"
    }
   },
   "outputs": [
    {
     "data": {
      "text/plain": [
       "<Figure size 432x288 with 0 Axes>"
      ]
     },
     "execution_count": 8,
     "metadata": {},
     "output_type": "execute_result"
    },
    {
     "data": {
      "image/png": "[encoded data removed]",
      "text/plain": [
       "<Figure size 432x288 with 1 Axes>"
      ]
     },
     "metadata": {
      "needs_background": "light"
     },
     "output_type": "display_data"
    },
    {
     "data": {
      "text/plain": [
       "<Figure size 432x288 with 0 Axes>"
      ]
     },
     "metadata": {},
     "output_type": "display_data"
    }
   ],
   "source": [
    "measured_2 = np.array(measured).reshape((-1, 1))\n",
    "predicted_2 = np.array(predicted)\n",
    "\n",
    "linear_fit = LinearRegression().fit(measured_2, predicted_2)\n",
    "r_squared = linear_fit.score(measured_2, predicted_2)\n",
    "\n",
    "plt.plot(measured, predicted,'go', label = f'$R^2 = ${round(r_squared,2)}')\n",
    "x_par = np.linspace(-10, 4, 100)\n",
    "plt.plot(x_par, x_par,'b-', label = '45 degrees')\n",
    "plt.title('Parity plot', fontdict={'fontsize': 18})\n",
    "plt.legend(prop={\"size\":12})\n",
    "plt.xticks(fontsize=14)\n",
    "plt.yticks(fontsize=14)\n",
    "plt.xlim([-10,3])\n",
    "plt.ylim([-10,3])\n",
    "plt.xlabel(\"measured rate\",fontdict={'fontsize': 14})\n",
    "plt.ylabel(\"predicted rate\",fontdict={'fontsize': 14})\n",
    "\n",
    "plt.tight_layout()\n",
    "\n",
    "plt.savefig('figures/parity_plot.png')\n",
    "\n",
    "plt.figure()\n",
    "\n"
   ]
  },
  {
   "cell_type": "markdown",
   "metadata": {
    "ExecuteTime": {
     "end_time": "2022-10-07T11:38:52.468744Z",
     "start_time": "2022-10-07T11:38:52.464823Z"
    }
   },
   "source": [
    "# Figure 4 & 5: molecule 61"
   ]
  },
  {
   "cell_type": "code",
   "execution_count": 12,
   "metadata": {
    "ExecuteTime": {
     "end_time": "2022-11-04T16:57:48.707562Z",
     "start_time": "2022-11-04T16:57:48.700942Z"
    }
   },
   "outputs": [],
   "source": [
    "from PDB_predictions import KnownBoronicAcid\n",
    "import matplotlib.pyplot as plt"
   ]
  },
  {
   "cell_type": "code",
   "execution_count": 14,
   "metadata": {
    "ExecuteTime": {
     "end_time": "2022-11-04T16:58:00.997313Z",
     "start_time": "2022-11-04T16:58:00.767000Z"
    }
   },
   "outputs": [
    {
     "data": {
      "text/plain": [
       "[<matplotlib.lines.Line2D at 0x1643841f0>]"
      ]
     },
     "execution_count": 14,
     "metadata": {},
     "output_type": "execute_result"
    },
    {
     "data": {
      "image/png": "[encoded data removed]",
      "text/plain": [
       "<Figure size 720x360 with 1 Axes>"
      ]
     },
     "metadata": {
      "needs_background": "light"
     },
     "output_type": "display_data"
    }
   ],
   "source": [
    "# First we need to initialise a molecule\n",
    "mol_61 = KnownBoronicAcid(61)\n",
    "\n",
    "mol_61.plot_result()"
   ]
  },
  {
   "cell_type": "code",
   "execution_count": 15,
   "metadata": {
    "ExecuteTime": {
     "end_time": "2022-11-04T16:58:01.743951Z",
     "start_time": "2022-11-04T16:58:01.739019Z"
    }
   },
   "outputs": [],
   "source": [
    "#Info\n",
    "k1 = mol_61.k1\n",
    "k2 = mol_61.k2\n",
    "k3 = mol_61.k3\n",
    "k4 = mol_61.k4\n",
    "pKa = mol_61.pKa\n",
    "pKaH = mol_61.pKaH"
   ]
  },
  {
   "cell_type": "code",
   "execution_count": 16,
   "metadata": {
    "ExecuteTime": {
     "end_time": "2022-11-04T16:58:02.497046Z",
     "start_time": "2022-11-04T16:58:02.491522Z"
    }
   },
   "outputs": [],
   "source": [
    "def k1_rate(pH):\n",
    "    rate = k1 - 1*pH\n",
    "    return rate\n",
    "\n",
    "def k2_rate(pH):  \n",
    "    if 0 <= pH and pH < pKa:\n",
    "        b = k2 - 0.75*pKa\n",
    "        #rate = 10**(0.75*pH+b)\n",
    "        rate = 0.75*pH+b\n",
    "    elif pKa <= pH and pH <= 14:\n",
    "        #rate = 10**(k2)\n",
    "        rate = k2\n",
    "    return rate\n",
    "\n",
    "def k3_rate(pH):\n",
    "    # y=ax+b => b = y-ax\n",
    "    b = k3 - 2*14\n",
    "    rate = 2*pH + b\n",
    "    return rate\n",
    "\n",
    "def k4_rate(pH):\n",
    "    if 0 <= pH and pH < pKaH:\n",
    "        #y = ax+b => b = y - ax => b = k_max - 0.5*pKaH\n",
    "        b = k4 - 0.75*pKaH\n",
    "        rate = 0.75*pH+b\n",
    "    elif pKaH <= pH and pH <= pKa:\n",
    "        rate = k4\n",
    "    elif pKa < pH and pH <= 14:\n",
    "        b = k4 + 0.75*pKa\n",
    "        rate = -0.75*pH+b\n",
    "    return rate"
   ]
  },
  {
   "cell_type": "code",
   "execution_count": 18,
   "metadata": {
    "ExecuteTime": {
     "end_time": "2022-11-04T16:58:49.710244Z",
     "start_time": "2022-11-04T16:58:48.973069Z"
    }
   },
   "outputs": [
    {
     "data": {
      "text/plain": [
       "<Figure size 432x288 with 0 Axes>"
      ]
     },
     "execution_count": 18,
     "metadata": {},
     "output_type": "execute_result"
    },
    {
     "data": {
      "image/png": "[encoded data removed]",
      "text/plain": [
       "<Figure size 432x288 with 1 Axes>"
      ]
     },
     "metadata": {
      "needs_background": "light"
     },
     "output_type": "display_data"
    },
    {
     "data": {
      "text/plain": [
       "<Figure size 432x288 with 0 Axes>"
      ]
     },
     "metadata": {},
     "output_type": "display_data"
    }
   ],
   "source": [
    "x = []\n",
    "y_k1 = []\n",
    "y_k2 = []\n",
    "y_k3 = []\n",
    "y_k4 = []\n",
    "obs = []\n",
    "i = np.linspace(0, 14, 140)\n",
    "for pH in i:\n",
    "    x += [pH]\n",
    "    a = k1_rate(pH)\n",
    "    y_k1 += [a]\n",
    "    b = k2_rate(pH)\n",
    "    y_k2 += [b]\n",
    "    c = k3_rate(pH)\n",
    "    y_k3 += [c]\n",
    "    d = k4_rate(pH)\n",
    "    y_k4 += [d]\n",
    "    obs += [np.log10(10**a+10**b+10**c+10**d)]\n",
    "\n",
    "plt.plot(x, y_k1,'y-', label = '$k_1$')\n",
    "plt.plot(x, y_k2,'r-', label = '$k_2$')\n",
    "plt.plot(x, y_k3,'b-', label = '$k_3$')\n",
    "plt.plot(x, y_k4,'m-', label = '$k_4$')\n",
    "\n",
    "# Comment out this line to remove the predicted rate\n",
    "plt.plot(x, obs,'g-', label = 'Predicted rate')\n",
    "\n",
    "plt.title('(3,5-dimethyl-1,2-oxazol-4-yl)boronic acid', fontdict={'fontsize': 16})\n",
    "plt.legend(prop={\"size\":12})\n",
    "plt.xticks(fontsize=14)\n",
    "plt.yticks(fontsize=14)\n",
    "plt.ylim([-10,2])\n",
    "plt.xlabel(\"pH\",fontdict={'fontsize': 14})\n",
    "plt.ylabel(\"log($\\it{k}$)\",fontdict={'fontsize': 14})\n",
    "\n",
    "plt.tight_layout()\n",
    "\n",
    "plt.savefig('figures/mol_61_rate_deconstruction_2.png', dpi=600)\n",
    "\n",
    "plt.figure()\n",
    "\n"
   ]
  },
  {
   "cell_type": "code",
   "execution_count": null,
   "metadata": {},
   "outputs": [],
   "source": []
  }
 ],
 "metadata": {
  "kernelspec": {
   "display_name": "protodeboronation2",
   "language": "python",
   "name": "protodeboronation2"
  },
  "language_info": {
   "codemirror_mode": {
    "name": "ipython",
    "version": 3
   },
   "file_extension": ".py",
   "mimetype": "text/x-python",
   "name": "python",
   "nbconvert_exporter": "python",
   "pygments_lexer": "ipython3",
   "version": "3.9.7"
  },
  "toc": {
   "base_numbering": 1,
   "nav_menu": {},
   "number_sections": true,
   "sideBar": true,
   "skip_h1_title": false,
   "title_cell": "Table of Contents",
   "title_sidebar": "Contents",
   "toc_cell": true,
   "toc_position": {},
   "toc_section_display": true,
   "toc_window_display": true
  },
  "varInspector": {
   "cols": {
    "lenName": 16,
    "lenType": 16,
    "lenVar": 40
   },
   "kernels_config": {
    "python": {
     "delete_cmd_postfix": "",
     "delete_cmd_prefix": "del ",
     "library": "var_list.py",
     "varRefreshCmd": "print(var_dic_list())"
    },
    "r": {
     "delete_cmd_postfix": ") ",
     "delete_cmd_prefix": "rm(",
     "library": "var_list.r",
     "varRefreshCmd": "cat(var_dic_list()) "
    }
   },
   "types_to_exclude": [
    "module",
    "function",
    "builtin_function_or_method",
    "instance",
    "_Feature"
   ],
   "window_display": false
  },
  "vscode": {
   "interpreter": {
    "hash": "339693d81f962f6afc9a6a3179907a5c2f9ea07d5fab1c29d221a0f4683e690d"
   }
  }
 },
 "nbformat": 4,
 "nbformat_minor": 2
}
