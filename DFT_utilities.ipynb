{
 "cells": [
  {
   "cell_type": "markdown",
   "id": "7d09cb45",
   "metadata": {
    "toc": true
   },
   "source": [
    "<h1>Table of Contents<span class=\"tocSkip\"></span></h1>\n",
    "<div class=\"toc\"><ul class=\"toc-item\"><li><span><a href=\"#Generate-.com-file-from-SMILES-(using-rdkit-to-generate-initial-geometry)\" data-toc-modified-id=\"Generate-.com-file-from-SMILES-(using-rdkit-to-generate-initial-geometry)-1\"><span class=\"toc-item-num\">1&nbsp;&nbsp;</span>Generate .com file from SMILES (using rdkit to generate initial geometry)</a></span></li><li><span><a href=\"#Generate-SLURM-file\" data-toc-modified-id=\"Generate-SLURM-file-2\"><span class=\"toc-item-num\">2&nbsp;&nbsp;</span>Generate SLURM file</a></span></li><li><span><a href=\"#Extract-optimised-coordinates-from-a-.log-file\" data-toc-modified-id=\"Extract-optimised-coordinates-from-a-.log-file-3\"><span class=\"toc-item-num\">3&nbsp;&nbsp;</span>Extract optimised coordinates from a .log file</a></span></li><li><span><a href=\"#Write-a-.com-file-using-final-geometry-of-a-.log-file\" data-toc-modified-id=\"Write-a-.com-file-using-final-geometry-of-a-.log-file-4\"><span class=\"toc-item-num\">4&nbsp;&nbsp;</span>Write a .com file using final geometry of a .log file</a></span></li><li><span><a href=\"#Read-energy-from-successfully-optimised-.log-file\" data-toc-modified-id=\"Read-energy-from-successfully-optimised-.log-file-5\"><span class=\"toc-item-num\">5&nbsp;&nbsp;</span>Read energy from successfully optimised .log file</a></span><ul class=\"toc-item\"><li><span><a href=\"#Just-1-file\" data-toc-modified-id=\"Just-1-file-5.1\"><span class=\"toc-item-num\">5.1&nbsp;&nbsp;</span>Just 1 file</a></span></li><li><span><a href=\"#All-files-in-a-folder,-and-write-to-csv\" data-toc-modified-id=\"All-files-in-a-folder,-and-write-to-csv-5.2\"><span class=\"toc-item-num\">5.2&nbsp;&nbsp;</span>All files in a folder, and write to csv</a></span></li></ul></li><li><span><a href=\"#Extract-coordinates-from-.log-files-to-copy-paste-into-SI\" data-toc-modified-id=\"Extract-coordinates-from-.log-files-to-copy-paste-into-SI-6\"><span class=\"toc-item-num\">6&nbsp;&nbsp;</span>Extract coordinates from .log files to copy-paste into SI</a></span></li></ul></div>"
   ]
  },
  {
   "cell_type": "markdown",
   "id": "c9037a26",
   "metadata": {},
   "source": [
    "# Generate .com file from SMILES (using rdkit to generate initial geometry)"
   ]
  },
  {
   "cell_type": "code",
   "execution_count": 1,
   "id": "1d28b5a3",
   "metadata": {
    "ExecuteTime": {
     "end_time": "2022-10-07T17:10:21.541554Z",
     "start_time": "2022-10-07T17:10:20.976516Z"
    }
   },
   "outputs": [],
   "source": [
    "from DFT_utilities import generate_com_file_from_smiles\n",
    "from DFT_utilities import generate_k2Ar_minus_com_files\n",
    "from DFT_utilities import generate_k2Ar_TS_com_files\n",
    "import pandas as pd"
   ]
  },
  {
   "cell_type": "code",
   "execution_count": 2,
   "id": "7047c363",
   "metadata": {
    "ExecuteTime": {
     "end_time": "2022-10-07T17:10:22.569633Z",
     "start_time": "2022-10-07T17:10:21.951655Z"
    }
   },
   "outputs": [],
   "source": [
    "#Example of how to use, on k2Ar intermediate Ar-\n",
    "\n",
    "df = pd.read_csv('data/Cox-molecules/Cox-molecules-overview.csv')\n",
    "\n",
    "k2Ar_intermediate_molecules = generate_k2Ar_minus_com_files(df, 'k2Ar', 'data/Cox-molecules/DFT/example_com_files_k2Ar')\n",
    "k2Ar_TS_molecules = generate_k2Ar_TS_com_files(df, 'k2Ar', 'data/Cox-molecules/DFT/example_com_files_k2Ar')\n"
   ]
  },
  {
   "cell_type": "code",
   "execution_count": 3,
   "id": "443d8acb",
   "metadata": {
    "ExecuteTime": {
     "end_time": "2022-10-07T17:10:22.650688Z",
     "start_time": "2022-10-07T17:10:22.639595Z"
    }
   },
   "outputs": [
    {
     "data": {
      "text/plain": [
       "['COc1ccc([B-](O)(O)O)cc1',\n",
       " 'O[B-](O)(O)c1c(F)cccc1F',\n",
       " 'O[B-](O)(O)c1c(F)c(F)c(F)c(F)c1F',\n",
       " 'O[B-](O)(O)c1ccccc1',\n",
       " 'O[B-](O)(O)c1ccccc1F',\n",
       " 'O[B-](O)(O)c1cccc(F)c1',\n",
       " 'O[B-](O)(O)c1ccc(F)cc1',\n",
       " 'O[B-](O)(O)c1cccc(F)c1F',\n",
       " 'O[B-](O)(O)c1ccc(F)cc1F',\n",
       " 'O[B-](O)(O)c1cc(F)ccc1F',\n",
       " 'O[B-](O)(O)c1ccc(F)c(F)c1',\n",
       " 'O[B-](O)(O)c1cc(F)cc(F)c1',\n",
       " 'O[B-](O)(O)c1ccc(F)c(F)c1F',\n",
       " 'O[B-](O)(O)c1cc(F)cc(F)c1F',\n",
       " 'O[B-](O)(O)c1cc(F)c(F)cc1F',\n",
       " 'O[B-](O)(O)c1cc(F)c(F)c(F)c1',\n",
       " 'O[B-](O)(O)c1cc(F)c(F)c(F)c1F',\n",
       " 'O[B-](O)(O)c1c(F)ccc(F)c1F',\n",
       " 'O[B-](O)(O)c1c(F)cc(F)cc1F',\n",
       " 'O[B-](O)(O)c1c(F)cc(F)c(F)c1F',\n",
       " 'O[B-](O)(O)c1c(F)c(F)cc(F)c1F',\n",
       " 'COc1ccc([B-](O)(O)O)c(F)c1',\n",
       " 'O[B-](O)(O)c1ccc(C(F)(F)F)cc1F',\n",
       " 'FC1=C([B-](O)(O)O)C=C([N+]([O-])=O)C=C1',\n",
       " 'COc1cc(F)c([B-](O)(O)O)c(F)c1',\n",
       " 'COc1c(F)c(F)c([B-](O)(O)O)c(F)c1F',\n",
       " 'O[B-](O)(O)c1cc(C(F)(F)F)cc(C(F)(F)F)c1',\n",
       " 'O[B-](O)(O)C1=CC([N+]([O-])=O)=CC([N+]([O-])=O)=C1',\n",
       " 'Cc1ccc([B-](O)(O)O)cc1',\n",
       " 'O[B-](O)(O)c1cccc(Cl)c1']"
      ]
     },
     "execution_count": 3,
     "metadata": {},
     "output_type": "execute_result"
    }
   ],
   "source": [
    "k2Ar_TS_molecules"
   ]
  },
  {
   "cell_type": "markdown",
   "id": "8473a113",
   "metadata": {},
   "source": [
    "# Generate SLURM file"
   ]
  },
  {
   "cell_type": "code",
   "execution_count": 4,
   "id": "db41d1ee",
   "metadata": {
    "ExecuteTime": {
     "end_time": "2022-10-07T17:10:23.462107Z",
     "start_time": "2022-10-07T17:10:23.459412Z"
    }
   },
   "outputs": [],
   "source": [
    "from os import walk\n",
    "from shutil import copyfile"
   ]
  },
  {
   "cell_type": "code",
   "execution_count": 5,
   "id": "d0991b64",
   "metadata": {
    "ExecuteTime": {
     "end_time": "2022-10-07T17:10:23.852869Z",
     "start_time": "2022-10-07T17:10:23.845356Z"
    }
   },
   "outputs": [],
   "source": [
    "# NB: You need to change the template to include the the name of the project to be charged:\n",
    "\n",
    "#! Which project should be charged:\n",
    "#SBATCH -A < >\n",
    "\n",
    "def slurm_file_generation(folder_path, your_name):\n",
    "    \"\"\"\n",
    "    folder_path: to a folder containing .com files\n",
    "    Read the file names of all the .com files, and create a slurm file for each one\n",
    "    \"\"\"\n",
    "    #Get all the filenames in the folder\n",
    "    filenames = next(walk(folder_path), (None, None, []))[2]  # [] if no file\n",
    "    for filename in filenames:\n",
    "        if filename == '.DS_Store':\n",
    "            continue\n",
    "        if filename[-4:] == '.com':\n",
    "            filename = filename[:-4]\n",
    "\n",
    "            #copy the template file to make an apporpriate number of new slurm files with correct names\n",
    "            copyfile( 'data/Cox-molecules/DFT/slurm_submit_template.peta4-cclake', \\\n",
    "                     f'{folder_path}/slurm_submit_{filename}.peta4-cclake')\n",
    "\n",
    "            #edit the slurm files so the name matches what's inside\n",
    "            f = open(f\"{folder_path}/slurm_submit_{filename}.peta4-cclake\", \"r\")\n",
    "            list_of_lines = f.readlines()\n",
    "            folder_names = folder_path[19:]\n",
    "            list_of_lines[60] = f'application=\"g16 /home/{your_name}/{folder_names}/{filename}.com /home/{your_name}/{folder_names}/{filename}.log\"\\n'\n",
    "            list_of_lines[12] = f'#SBATCH -J {filename}\\n'\n",
    "            f = open(f\"{folder_path}/slurm_submit_{filename}.peta4-cclake\", \"w\")\n",
    "            f.writelines(list_of_lines)\n",
    "            f.close()\n",
    "            print(f'sbatch slurm_submit_{filename}.peta4-cclake')\n"
   ]
  },
  {
   "cell_type": "code",
   "execution_count": 6,
   "id": "012efcb0",
   "metadata": {
    "ExecuteTime": {
     "end_time": "2022-10-07T17:10:24.355327Z",
     "start_time": "2022-10-07T17:10:24.260725Z"
    },
    "scrolled": true
   },
   "outputs": [
    {
     "name": "stdout",
     "output_type": "stream",
     "text": [
      "sbatch slurm_submit_91_k2Ar_TS.peta4-cclake\n",
      "sbatch slurm_submit_84_k2Ar_TS.peta4-cclake\n",
      "sbatch slurm_submit_79_k2Ar_TS.peta4-cclake\n",
      "sbatch slurm_submit_77_k2Ar_Ar-.peta4-cclake\n",
      "sbatch slurm_submit_88_k2Ar_Ar-.peta4-cclake\n",
      "sbatch slurm_submit_98_k2Ar_TS.peta4-cclake\n",
      "sbatch slurm_submit_81_k2Ar_TS.peta4-cclake\n",
      "sbatch slurm_submit_89_k2Ar_Ar-.peta4-cclake\n",
      "sbatch slurm_submit_76_k2Ar_Ar-.peta4-cclake\n",
      "sbatch slurm_submit_71_k2Ar_Ar-.peta4-cclake\n",
      "sbatch slurm_submit_88_k2Ar_TS.peta4-cclake\n",
      "sbatch slurm_submit_75_k2Ar_TS.peta4-cclake\n",
      "sbatch slurm_submit_94_k2Ar_TS.peta4-cclake\n",
      "sbatch slurm_submit_96_k2Ar_Ar-.peta4-cclake\n",
      "sbatch slurm_submit_91_k2Ar_Ar-.peta4-cclake\n",
      "sbatch slurm_submit_97_k2Ar_TS.peta4-cclake\n",
      "sbatch slurm_submit_84_k2Ar_Ar-.peta4-cclake\n",
      "sbatch slurm_submit_76_k2Ar_TS.peta4-cclake\n",
      "sbatch slurm_submit_83_k2Ar_Ar-.peta4-cclake\n",
      "sbatch slurm_submit_28_k2Ar_TS.peta4-cclake\n",
      "sbatch slurm_submit_82_k2Ar_TS.peta4-cclake\n",
      "sbatch slurm_submit_82_k2Ar_Ar-.peta4-cclake\n",
      "sbatch slurm_submit_28_k2Ar_Ar-.peta4-cclake\n",
      "sbatch slurm_submit_85_k2Ar_Ar-.peta4-cclake\n",
      "sbatch slurm_submit_90_k2Ar_Ar-.peta4-cclake\n",
      "sbatch slurm_submit_97_k2Ar_Ar-.peta4-cclake\n",
      "sbatch slurm_submit_87_k2Ar_TS.peta4-cclake\n",
      "sbatch slurm_submit_92_k2Ar_TS.peta4-cclake\n",
      "sbatch slurm_submit_73_k2Ar_TS.peta4-cclake\n",
      "sbatch slurm_submit_95_k2Ar_TS.peta4-cclake\n",
      "sbatch slurm_submit_87_k2Ar_Ar-.peta4-cclake\n",
      "sbatch slurm_submit_78_k2Ar_Ar-.peta4-cclake\n",
      "sbatch slurm_submit_80_k2Ar_Ar-.peta4-cclake\n",
      "sbatch slurm_submit_74_k2Ar_TS.peta4-cclake\n",
      "sbatch slurm_submit_95_k2Ar_Ar-.peta4-cclake\n",
      "sbatch slurm_submit_89_k2Ar_TS.peta4-cclake\n",
      "sbatch slurm_submit_92_k2Ar_Ar-.peta4-cclake\n",
      "sbatch slurm_submit_80_k2Ar_TS.peta4-cclake\n",
      "sbatch slurm_submit_93_k2Ar_Ar-.peta4-cclake\n",
      "sbatch slurm_submit_94_k2Ar_Ar-.peta4-cclake\n",
      "sbatch slurm_submit_99_k2Ar_TS.peta4-cclake\n",
      "sbatch slurm_submit_78_k2Ar_TS.peta4-cclake\n",
      "sbatch slurm_submit_85_k2Ar_TS.peta4-cclake\n",
      "sbatch slurm_submit_81_k2Ar_Ar-.peta4-cclake\n",
      "sbatch slurm_submit_79_k2Ar_Ar-.peta4-cclake\n",
      "sbatch slurm_submit_86_k2Ar_Ar-.peta4-cclake\n",
      "sbatch slurm_submit_90_k2Ar_TS.peta4-cclake\n",
      "sbatch slurm_submit_71_k2Ar_TS.peta4-cclake\n",
      "sbatch slurm_submit_72_k2Ar_TS.peta4-cclake\n",
      "sbatch slurm_submit_93_k2Ar_TS.peta4-cclake\n",
      "sbatch slurm_submit_73_k2Ar_Ar-.peta4-cclake\n",
      "sbatch slurm_submit_86_k2Ar_TS.peta4-cclake\n",
      "sbatch slurm_submit_74_k2Ar_Ar-.peta4-cclake\n",
      "sbatch slurm_submit_99_k2Ar_Ar-.peta4-cclake\n",
      "sbatch slurm_submit_83_k2Ar_TS.peta4-cclake\n",
      "sbatch slurm_submit_77_k2Ar_TS.peta4-cclake\n",
      "sbatch slurm_submit_98_k2Ar_Ar-.peta4-cclake\n",
      "sbatch slurm_submit_75_k2Ar_Ar-.peta4-cclake\n",
      "sbatch slurm_submit_72_k2Ar_Ar-.peta4-cclake\n",
      "sbatch slurm_submit_96_k2Ar_TS.peta4-cclake\n"
     ]
    }
   ],
   "source": [
    "slurm_file_generation('data/Cox-molecules/DFT/example_com_files_k2Ar', 'dsw46')"
   ]
  },
  {
   "cell_type": "markdown",
   "id": "d51d4d7e",
   "metadata": {
    "ExecuteTime": {
     "end_time": "2022-10-07T12:16:28.540695Z",
     "start_time": "2022-10-07T12:16:28.538037Z"
    }
   },
   "source": [
    "# Extract optimised coordinates from a .log file"
   ]
  },
  {
   "cell_type": "code",
   "execution_count": 7,
   "id": "84fce6d9",
   "metadata": {
    "ExecuteTime": {
     "end_time": "2022-10-07T17:10:25.210066Z",
     "start_time": "2022-10-07T17:10:25.206774Z"
    }
   },
   "outputs": [],
   "source": [
    "from DFT_utilities import extract_coordinates"
   ]
  },
  {
   "cell_type": "code",
   "execution_count": 8,
   "id": "e655b9a1",
   "metadata": {
    "ExecuteTime": {
     "end_time": "2022-10-07T17:10:25.752686Z",
     "start_time": "2022-10-07T17:10:25.732989Z"
    }
   },
   "outputs": [
    {
     "data": {
      "text/plain": [
       "(['O  1.566958   -1.162343   -0.42686\\n',\n",
       "  'C  1.353330   -0.112653    0.27273\\n',\n",
       "  'C -0.056507    0.000306    0.61830\\n',\n",
       "  'C -0.576068   -1.272102    0.04604\\n',\n",
       "  'N  0.321882   -1.943142   -0.58815\\n',\n",
       "  'C -1.964465   -1.772433    0.11399\\n',\n",
       "  'H -2.042348   -2.757085   -0.34161\\n',\n",
       "  'H -2.638342   -1.088044   -0.40723\\n',\n",
       "  'H -2.291781   -1.827110    1.15444\\n',\n",
       "  'C  2.462767    0.783205    0.57111\\n',\n",
       "  'H  2.472594    1.006920    1.64029\\n',\n",
       "  'H  2.279838    1.732055    0.05639\\n',\n",
       "  'H  3.413656    0.364598    0.25349\\n',\n",
       "  'B -0.767315    1.311710   -0.05224\\n',\n",
       "  'O -2.003425    1.707101    0.29669\\n',\n",
       "  'O -0.040855    1.929251   -1.00217\\n',\n",
       "  'H -0.473071    2.699977   -1.38757\\n',\n",
       "  'H -2.421110    1.258442    1.03685\\n',\n",
       "  'H -0.211796    0.103688    1.69877\\n'],\n",
       " 1)"
      ]
     },
     "execution_count": 8,
     "metadata": {},
     "output_type": "execute_result"
    }
   ],
   "source": [
    "# Extract the optimised coordinates of molecule 61: k1 intermediate\n",
    "extract_coordinates('data/Cox-molecules/DFT/k1/61_int.log')"
   ]
  },
  {
   "cell_type": "markdown",
   "id": "8c9cf94b",
   "metadata": {},
   "source": [
    "# Write a .com file using final geometry of a .log file"
   ]
  },
  {
   "cell_type": "code",
   "execution_count": 9,
   "id": "d401acb5",
   "metadata": {
    "ExecuteTime": {
     "end_time": "2022-10-07T17:10:26.763600Z",
     "start_time": "2022-10-07T17:10:26.760796Z"
    }
   },
   "outputs": [],
   "source": [
    "from os import walk\n",
    "from DFT_utilities import write_com_file"
   ]
  },
  {
   "cell_type": "code",
   "execution_count": 10,
   "id": "ad04107e",
   "metadata": {
    "ExecuteTime": {
     "end_time": "2022-10-07T17:10:27.508951Z",
     "start_time": "2022-10-07T17:10:27.377612Z"
    }
   },
   "outputs": [],
   "source": [
    "# Select a header, comment out the other ones\n",
    "\n",
    "#header = ['#n M06L/6-311++G** SCRF=(Solvent=Water) Opt']\n",
    "header = ['#n M06L/6-311++G** SCRF=(Solvent=Water) Opt=(TS,CalcFC,noeigentest)']\n",
    "#header = ['#n B3LYP/6-31G(d) Opt']\n",
    "#header = ['#n B3LYP/6-31G(d) Opt=(TS,CalcFC,noeigentest)']\n",
    "\n",
    "folder_path = 'data/Cox-molecules/DFT/k2'\n",
    "output_folder = 'data/Cox-molecules/DFT/example_com_files_k1'\n",
    "filenames = next(walk(folder_path), (None, None, []))[2]  # [] if no file\n",
    "for filename in filenames:\n",
    "    if filename[-4:] == '.log' and 'TS' in filename:\n",
    "        write_com_file(f'{folder_path}/{filename}', filename, output_folder, header)\n"
   ]
  },
  {
   "cell_type": "markdown",
   "id": "24cb7bd9",
   "metadata": {},
   "source": [
    "# Read energy from successfully optimised .log file"
   ]
  },
  {
   "cell_type": "markdown",
   "id": "19dedc74",
   "metadata": {},
   "source": [
    "## Just 1 file"
   ]
  },
  {
   "cell_type": "code",
   "execution_count": 11,
   "id": "a31af45f",
   "metadata": {
    "ExecuteTime": {
     "end_time": "2022-10-07T17:10:28.975832Z",
     "start_time": "2022-10-07T17:10:28.973199Z"
    }
   },
   "outputs": [],
   "source": [
    "from DFT_utilities import read_energy"
   ]
  },
  {
   "cell_type": "code",
   "execution_count": 12,
   "id": "1adb4e15",
   "metadata": {
    "ExecuteTime": {
     "end_time": "2022-10-07T17:10:29.655009Z",
     "start_time": "2022-10-07T17:10:29.641787Z"
    }
   },
   "outputs": [
    {
     "data": {
      "text/plain": [
       "'E(RM06L) =  -653.204896475'"
      ]
     },
     "execution_count": 12,
     "metadata": {},
     "output_type": "execute_result"
    }
   ],
   "source": [
    "file_path = 'data/Cox-molecules/DFT/k2/61_TS.log'\n",
    "read_energy(file_path)"
   ]
  },
  {
   "cell_type": "markdown",
   "id": "f82345f1",
   "metadata": {},
   "source": [
    "## All files in a folder, and write to csv"
   ]
  },
  {
   "cell_type": "code",
   "execution_count": 13,
   "id": "2eb3eb5c",
   "metadata": {
    "ExecuteTime": {
     "end_time": "2022-10-07T17:10:31.167087Z",
     "start_time": "2022-10-07T17:10:31.164000Z"
    }
   },
   "outputs": [],
   "source": [
    "from DFT_utilities import read_energy_in_whole_folder"
   ]
  },
  {
   "cell_type": "code",
   "execution_count": 14,
   "id": "be3934a2",
   "metadata": {
    "ExecuteTime": {
     "end_time": "2022-10-07T17:10:33.865891Z",
     "start_time": "2022-10-07T17:10:33.683203Z"
    }
   },
   "outputs": [
    {
     "name": "stdout",
     "output_type": "stream",
     "text": [
      "0  errors out of  35  calculations.\n"
     ]
    }
   ],
   "source": [
    "folder_path = 'data/Cox-molecules/DFT/k2'\n",
    "read_energy_in_whole_folder(folder_path)"
   ]
  },
  {
   "cell_type": "markdown",
   "id": "3f524557",
   "metadata": {},
   "source": [
    "# Extract coordinates from .log files to copy-paste into SI"
   ]
  },
  {
   "cell_type": "code",
   "execution_count": 15,
   "id": "a6bc25da",
   "metadata": {
    "ExecuteTime": {
     "end_time": "2022-10-07T17:10:35.787656Z",
     "start_time": "2022-10-07T17:10:35.784958Z"
    }
   },
   "outputs": [],
   "source": [
    "from DFT_utilities import prepare_coordinates_for_SI\n",
    "from DFT_utilities import generate_coordinates_file_for_SI"
   ]
  },
  {
   "cell_type": "code",
   "execution_count": 16,
   "id": "5bc0eb4d",
   "metadata": {
    "ExecuteTime": {
     "end_time": "2022-10-07T17:10:36.493013Z",
     "start_time": "2022-10-07T17:10:36.467728Z"
    }
   },
   "outputs": [
    {
     "data": {
      "text/plain": [
       "['\\\\begin{lstlisting}',\n",
       " 'Molecule 61: k2 - TS',\n",
       " '#n M06L/6-311++G** SCRF=(Solvent=Water) Opt=(TS,CalcFC,noeigentest)',\n",
       " 'E(RM06L) =  -653.204896475',\n",
       " 'Charge, multiplicity: -1, 1',\n",
       " 'Geometry:',\n",
       " 'C  0.432700   -0.033705    0.32222',\n",
       " 'B -1.729075    0.302128   -0.67570',\n",
       " 'O -2.303357    1.179482    0.23382',\n",
       " 'O -1.281550    0.811182   -1.89278',\n",
       " 'H -1.040741    1.735949   -1.80619',\n",
       " 'O -2.162617   -1.028647   -0.67105',\n",
       " 'H -2.094696   -1.405022    1.61996',\n",
       " 'H -0.870217   -0.505235    1.57167',\n",
       " 'O -1.617715   -0.788558    2.18656',\n",
       " 'H -1.702043   -1.536514   -1.34326',\n",
       " 'H -2.374446    0.731291    1.08964',\n",
       " 'C  1.394611    1.033825    0.26957',\n",
       " 'N  2.616833    0.675355   -0.09040',\n",
       " 'O  2.533179   -0.707277   -0.30226',\n",
       " 'C  1.232319   -1.079574   -0.04419',\n",
       " 'C  1.152549    2.475374    0.57079',\n",
       " 'C  0.975527   -2.530302   -0.23038',\n",
       " 'H  0.421706    2.906731   -0.11994',\n",
       " 'H  2.070973    3.062225    0.50190',\n",
       " 'H  0.737471    2.600228    1.57498',\n",
       " 'H  1.693993   -3.147715    0.31758',\n",
       " 'H  1.041324   -2.827398   -1.28327',\n",
       " 'H -0.025535   -2.775834    0.12593',\n",
       " '\\\\end{lstlisting}']"
      ]
     },
     "execution_count": 16,
     "metadata": {},
     "output_type": "execute_result"
    }
   ],
   "source": [
    "# Example of what it looks like for 1 molecular optimisation\n",
    "filepath = 'data/Cox-molecules/DFT/k2/61_TS.log'\n",
    "prepare_coordinates_for_SI(61, 'k2', 'TS', filepath)\n",
    "\n",
    "# Note: the \"\\begin{lstlisting}\" and \"\\end{lstlisting}\" is for the overleaf Latex to read"
   ]
  },
  {
   "cell_type": "code",
   "execution_count": 17,
   "id": "830b1560",
   "metadata": {
    "ExecuteTime": {
     "end_time": "2022-10-07T17:10:39.879036Z",
     "start_time": "2022-10-07T17:10:38.482816Z"
    }
   },
   "outputs": [
    {
     "name": "stdout",
     "output_type": "stream",
     "text": [
      "Coordinates created successfully\n",
      "Coordinates created successfully\n",
      "Coordinates created successfully\n",
      "Coordinates created successfully\n",
      "Coordinates created successfully\n",
      "Coordinates created successfully\n",
      "Coordinates created successfully\n"
     ]
    }
   ],
   "source": [
    "# generate coordinates file for SI for all Cox's molecules\n",
    "\n",
    "generate_coordinates_file_for_SI('data/Cox-molecules/DFT/k1')\n",
    "generate_coordinates_file_for_SI('data/Cox-molecules/DFT/k2')\n",
    "generate_coordinates_file_for_SI('data/Cox-molecules/DFT/k2Ar')\n",
    "generate_coordinates_file_for_SI('data/Cox-molecules/DFT/k2cat')\n",
    "generate_coordinates_file_for_SI('data/Cox-molecules/DFT/k3')\n",
    "generate_coordinates_file_for_SI('data/Cox-molecules/DFT/k4')\n",
    "generate_coordinates_file_for_SI('data/Cox-molecules/DFT/k5')\n"
   ]
  },
  {
   "cell_type": "code",
   "execution_count": 18,
   "id": "84b32606",
   "metadata": {
    "ExecuteTime": {
     "end_time": "2022-10-07T17:10:40.659557Z",
     "start_time": "2022-10-07T17:10:39.937427Z"
    }
   },
   "outputs": [
    {
     "name": "stdout",
     "output_type": "stream",
     "text": [
      "Coordinates created successfully\n",
      "Coordinates created successfully\n",
      "Coordinates created successfully\n",
      "Coordinates created successfully\n",
      "Coordinates created successfully\n",
      "Coordinates created successfully\n",
      "Coordinates created successfully\n"
     ]
    }
   ],
   "source": [
    "# generate coordinates file for SI for all novel molecules\n",
    "\n",
    "generate_coordinates_file_for_SI('data/novel-molecules/DFT/k1')\n",
    "generate_coordinates_file_for_SI('data/novel-molecules/DFT/k2')\n",
    "generate_coordinates_file_for_SI('data/novel-molecules/DFT/k2Ar')\n",
    "generate_coordinates_file_for_SI('data/novel-molecules/DFT/k2cat')\n",
    "generate_coordinates_file_for_SI('data/novel-molecules/DFT/k3')\n",
    "generate_coordinates_file_for_SI('data/novel-molecules/DFT/k4')\n",
    "generate_coordinates_file_for_SI('data/novel-molecules/DFT/k5')\n"
   ]
  }
 ],
 "metadata": {
  "kernelspec": {
   "display_name": "protodeboronation2",
   "language": "python",
   "name": "protodeboronation2"
  },
  "language_info": {
   "codemirror_mode": {
    "name": "ipython",
    "version": 3
   },
   "file_extension": ".py",
   "mimetype": "text/x-python",
   "name": "python",
   "nbconvert_exporter": "python",
   "pygments_lexer": "ipython3",
   "version": "3.9.7"
  },
  "toc": {
   "base_numbering": 1,
   "nav_menu": {},
   "number_sections": true,
   "sideBar": true,
   "skip_h1_title": false,
   "title_cell": "Table of Contents",
   "title_sidebar": "Contents",
   "toc_cell": true,
   "toc_position": {
    "height": "calc(100% - 180px)",
    "left": "10px",
    "top": "150px",
    "width": "165px"
   },
   "toc_section_display": true,
   "toc_window_display": true
  },
  "varInspector": {
   "cols": {
    "lenName": 16,
    "lenType": 16,
    "lenVar": 40
   },
   "kernels_config": {
    "python": {
     "delete_cmd_postfix": "",
     "delete_cmd_prefix": "del ",
     "library": "var_list.py",
     "varRefreshCmd": "print(var_dic_list())"
    },
    "r": {
     "delete_cmd_postfix": ") ",
     "delete_cmd_prefix": "rm(",
     "library": "var_list.r",
     "varRefreshCmd": "cat(var_dic_list()) "
    }
   },
   "types_to_exclude": [
    "module",
    "function",
    "builtin_function_or_method",
    "instance",
    "_Feature"
   ],
   "window_display": false
  }
 },
 "nbformat": 4,
 "nbformat_minor": 5
}
